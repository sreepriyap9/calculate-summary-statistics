{
 "cells": [
  {
   "cell_type": "code",
   "execution_count": 4,
   "id": "a653a3eb",
   "metadata": {},
   "outputs": [
    {
     "name": "stdout",
     "output_type": "stream",
     "text": [
      "Mean values:\n",
      "PassengerId    446.000000\n",
      "Survived         0.383838\n",
      "Pclass           2.308642\n",
      "Age             29.699118\n",
      "SibSp            0.523008\n",
      "Parch            0.381594\n",
      "Fare            32.204208\n",
      "dtype: float64\n",
      "\n",
      "Median values:\n",
      "PassengerId    446.0000\n",
      "Survived         0.0000\n",
      "Pclass           3.0000\n",
      "Age             28.0000\n",
      "SibSp            0.0000\n",
      "Parch            0.0000\n",
      "Fare            14.4542\n",
      "dtype: float64\n",
      "\n",
      "Mode values:\n",
      "     PassengerId  Survived  Pclass   Age  SibSp  Parch  Fare\n",
      "0              1       0.0     3.0  24.0    0.0    0.0  8.05\n",
      "1              2       NaN     NaN   NaN    NaN    NaN   NaN\n",
      "2              3       NaN     NaN   NaN    NaN    NaN   NaN\n",
      "3              4       NaN     NaN   NaN    NaN    NaN   NaN\n",
      "4              5       NaN     NaN   NaN    NaN    NaN   NaN\n",
      "..           ...       ...     ...   ...    ...    ...   ...\n",
      "886          887       NaN     NaN   NaN    NaN    NaN   NaN\n",
      "887          888       NaN     NaN   NaN    NaN    NaN   NaN\n",
      "888          889       NaN     NaN   NaN    NaN    NaN   NaN\n",
      "889          890       NaN     NaN   NaN    NaN    NaN   NaN\n",
      "890          891       NaN     NaN   NaN    NaN    NaN   NaN\n",
      "\n",
      "[891 rows x 7 columns]\n",
      "\n",
      "Standard deviation values:\n",
      "PassengerId    257.353842\n",
      "Survived         0.486592\n",
      "Pclass           0.836071\n",
      "Age             14.526497\n",
      "SibSp            1.102743\n",
      "Parch            0.806057\n",
      "Fare            49.693429\n",
      "dtype: float64\n"
     ]
    }
   ],
   "source": [
    "import pandas as pd\n",
    "\n",
    "# Load the dataset (example using train.csv)\n",
    "df_train = pd.read_csv('train.csv')\n",
    "\n",
    "# Select only numeric columns\n",
    "numeric_columns = df_train.select_dtypes(include=['number'])\n",
    "\n",
    "# Calculate mean for each numeric column\n",
    "mean_values = numeric_columns.mean()\n",
    "print(\"Mean values:\")\n",
    "print(mean_values)\n",
    "\n",
    "# Calculate median for each numeric column\n",
    "median_values = numeric_columns.median()\n",
    "print(\"\\nMedian values:\")\n",
    "print(median_values)\n",
    "\n",
    "# Calculate mode for each numeric column\n",
    "mode_values = numeric_columns.mode()\n",
    "print(\"\\nMode values:\")\n",
    "print(mode_values)\n",
    "\n",
    "# Calculate standard deviation for each numeric column\n",
    "std_values = numeric_columns.std()\n",
    "print(\"\\nStandard deviation values:\")\n",
    "print(std_values)\n",
    "\n"
   ]
  },
  {
   "cell_type": "code",
   "execution_count": null,
   "id": "20e84731",
   "metadata": {},
   "outputs": [],
   "source": []
  }
 ],
 "metadata": {
  "kernelspec": {
   "display_name": "Python 3 (ipykernel)",
   "language": "python",
   "name": "python3"
  },
  "language_info": {
   "codemirror_mode": {
    "name": "ipython",
    "version": 3
   },
   "file_extension": ".py",
   "mimetype": "text/x-python",
   "name": "python",
   "nbconvert_exporter": "python",
   "pygments_lexer": "ipython3",
   "version": "3.11.5"
  }
 },
 "nbformat": 4,
 "nbformat_minor": 5
}
